{
 "cells": [
  {
   "cell_type": "code",
   "execution_count": null,
   "id": "cardiac-satellite",
   "metadata": {},
   "outputs": [],
   "source": [
    "from scipy import stats\n",
    "import math\n",
    "import numpy as np"
   ]
  },
  {
   "cell_type": "code",
   "execution_count": null,
   "id": "indirect-festival",
   "metadata": {},
   "outputs": [],
   "source": [
    "def old_entropy(probs):\n",
    "    entropy=0.0\n",
    "    for i in range(2):\n",
    "        if probs[i]> 0.0:\n",
    "            entropy +=  (probs[i] * math.log2(probs[i]));\n",
    "    if entropy != 0.0:\n",
    "        entropy *= -1.0;\n",
    "    return entropy"
   ]
  },
  {
   "cell_type": "code",
   "execution_count": null,
   "id": "popular-syracuse",
   "metadata": {},
   "outputs": [],
   "source": [
    "probs = [0.25,0.75]\n",
    "print(stats.entropy(probs, base=2))\n",
    "print(old_entropy(probs))"
   ]
  },
  {
   "cell_type": "code",
   "execution_count": null,
   "id": "adjacent-brief",
   "metadata": {},
   "outputs": [],
   "source": [
    "def old_prob_distrib(elements,v1,laplace):\n",
    "    prob=np.zeros(2)\n",
    "    N = len(elements)\n",
    "    for i in range(N):\n",
    "        prob[elements[i][v1]]+=1.0;\n",
    "    for i in range(2):\n",
    "        if laplace==1:\n",
    "            prob[i]=(prob[i]+1)/N+2\n",
    "        else:\n",
    "            prob[i]=(prob[i])/N\n",
    "    return prob"
   ]
  },
  {
   "cell_type": "code",
   "execution_count": null,
   "id": "cellular-subsection",
   "metadata": {},
   "outputs": [],
   "source": [
    "elements=[\n",
    "    [1,0,0],\n",
    "    [1,1,0]\n",
    "]\n",
    "v1 = 2\n",
    "laplace = 0\n",
    "print(old_prob_distrib(elements,v1,laplace))\n",
    "print(scipy.stats.norm.pdf(elements))"
   ]
  },
  {
   "cell_type": "code",
   "execution_count": null,
   "id": "impaired-invention",
   "metadata": {},
   "outputs": [],
   "source": [
    "conditionals = np.zeros((4,2))\n",
    "print(conditionals)"
   ]
  },
  {
   "cell_type": "code",
   "execution_count": null,
   "id": "baking-height",
   "metadata": {},
   "outputs": [],
   "source": [
    "def get_conditional_entropy(prob_x,prob_y,prob_xy):\n",
    "    entropy = 0\n",
    "    prob_x = [0,0.5] \n",
    "    prob_y = [0.5,0.2] \n",
    "    prob_xy = [[0,0.5],[0.2,0.8]]  \n",
    "    \n",
    "    for j in range(2):\n",
    "        entropy2 = 0.0\n",
    "        for i in range(2):\n",
    "            if(prob_xy[i][j]>0):\n",
    "                entropy2+=prob_xy[i][j]*math.log2(prob_xy[i][j])\n",
    "        if entropy2 != 0:\n",
    "            entropy2*=-1\n",
    "        entropy+=prob_y[j]*entropy2\n",
    "    return entropy"
   ]
  },
  {
   "cell_type": "code",
   "execution_count": null,
   "id": "steady-alliance",
   "metadata": {},
   "outputs": [],
   "source": [
    "prob_x = [0.5,0.5]\n",
    "prob_xy=[[0.5,0.5],[0.5,0.5]] \n",
    "prob_y = [0.5,0.5]\n",
    "print(scipy.stats.entropy(prob_y,prob_x, base=2))\n",
    "print(get_conditional_entropy(prob_x,prob_y,prob_xy))"
   ]
  },
  {
   "cell_type": "code",
   "execution_count": 6,
   "id": "listed-bench",
   "metadata": {},
   "outputs": [
    {
     "name": "stdout",
     "output_type": "stream",
     "text": [
      "-,-,3,4,-,\n",
      "[list([2]) None None list([1, 2]) None]\n",
      "1,2,3,4,-,\n"
     ]
    }
   ],
   "source": [
    "from algorithms.genetic.geneticnds.geneticnds_algorithm import GeneticNDSAlgorithm\n",
    "from datasets.dataset_gen_generator import generate_dataset_genes\n",
    "alg = GeneticNDSAlgorithm()\n",
    "genes,dataset = generate_dataset_genes(\"example\")\n",
    "ind = alg.problem.generate_individual(genes,dataset.dependencies)\n",
    "#for gen in ind.genes:\n",
    "#    gen.included=0\n",
    "print(ind.print_genes_indexes())\n",
    "print(dataset.dependencies)\n",
    "ind.correct_dependencies()\n",
    "print(ind.print_genes_indexes())"
   ]
  },
  {
   "cell_type": "code",
   "execution_count": 1,
   "id": "pointed-journalist",
   "metadata": {},
   "outputs": [
    {
     "name": "stdout",
     "output_type": "stream",
     "text": [
      "{3: [12], 4: [8, 17, 17], 8: [17], 9: [3, 12, 6, 12, 19], 11: [19, 13], 12: [3], 13: [11, 19]}\n",
      "dep [None None list([12]) list([8, 17]) None None None list([17])\n",
      " list([3, 12, 6, 19]) None list([19, 13]) list([3]) list([11, 19]) None\n",
      " None None None None None None]\n",
      "8\n"
     ]
    }
   ],
   "source": [
    "from algorithms.GRASP.Dataset import Dataset\n",
    "d=Dataset(\"1\")\n",
    "print(d.new_dependencies)\n",
    "print(\"dep\",d.dependencies)\n",
    "print(d.dependencies[3][0])"
   ]
  }
 ],
 "metadata": {
  "kernelspec": {
   "display_name": "Python 3",
   "language": "python",
   "name": "python3"
  },
  "language_info": {
   "codemirror_mode": {
    "name": "ipython",
    "version": 3
   },
   "file_extension": ".py",
   "mimetype": "text/x-python",
   "name": "python",
   "nbconvert_exporter": "python",
   "pygments_lexer": "ipython3",
   "version": "3.8.7"
  }
 },
 "nbformat": 4,
 "nbformat_minor": 5
}
