{
 "cells": [
  {
   "cell_type": "code",
   "execution_count": 1,
   "metadata": {},
   "outputs": [],
   "source": [
    "import json\n",
    "import pandas as pd\n",
    "import re\n",
    "\n",
    "pd.set_option('display.max_rows', 1000)\n",
    "pd.set_option('display.max_columns', 15)\n",
    "\n",
    "keep_metrics = ['HV', 'spread', 'gdplus', 'unfr']\n",
    "\n",
    "       \n"
   ]
  },
  {
   "cell_type": "code",
   "execution_count": 2,
   "metadata": {},
   "outputs": [],
   "source": [
    "def getdf_with_params_and_metrics(files, keep_parameters):\n",
    "\n",
    "    parameters_dictios_list = []\n",
    "    metrics_dictios_list = []\n",
    "    for file in files:\n",
    "        with open(file, 'r') as f:\n",
    "            dictio = json.load(f)\n",
    "            parameters_dictios_list.append(dictio['parameters'])\n",
    "            metrics_dictios_list.append(dictio['metrics'])\n",
    "\n",
    "    parameters_df= pd.DataFrame(parameters_dictios_list)\n",
    "    parameters_df = parameters_df[['dataset'] + keep_parameters]\n",
    "\n",
    "    metrics_df = pd.DataFrame(metrics_dictios_list)\n",
    "    metrics_df = metrics_df[keep_metrics]\n",
    "    for column in keep_metrics: #we have several runs for each metric (list of values in each cell), so compute mean\n",
    "        metrics_df[column] = pd.DataFrame(metrics_df[column].values.tolist()).mean(axis=1)\n",
    "\n",
    "    return parameters_df.join(metrics_df)"
   ]
  },
  {
   "cell_type": "code",
   "execution_count": 76,
   "metadata": {},
   "outputs": [],
   "source": [
    "import pandas as pd\n",
    "import re\n",
    "\n",
    "# Counts the number of wins (HV by default) for each configuration in data_df of the given hyperparameters.\n",
    "# Each win is computed from results for a dataset\n",
    "# returns:\n",
    "#    dictionary with the, most frequently, best configuration. if ties, then first occurrence is returned\n",
    "#    dictionary with the count of configuration which were the best at leats once\n",
    "#    number of datasets    \n",
    "# \n",
    "def get_best_configuration(data_df, hyperparameters, metric: str = 'HV') -> dict:\n",
    "    \n",
    "    dataset_groups = data_df.groupby(['dataset'])\n",
    "    best_configs_counts = {}\n",
    "\n",
    "\n",
    "    for group in dataset_groups: # find best hyperparameters config\n",
    "        #print(group)\n",
    "        group_df = pd.DataFrame(group[1])\n",
    "        max_index = group_df[metric].idxmax()\n",
    "        best_config = (group[1][hyperparameters]).loc[max_index]\n",
    "        dataset_name = (group[1]['dataset']).loc[max_index] #any row\n",
    "        \n",
    "        key = best_config.to_string()\n",
    "        if key in best_configs_counts.keys():\n",
    "            (count, list_datasets) = best_configs_counts[key]\n",
    "            best_configs_counts[key]= (count + 1, list_datasets.append(dataset_name))\n",
    "        else:\n",
    "            best_configs_counts[key] = (1, [dataset_name])\n",
    "    \n",
    "    \n",
    "    print(best_configs_counts)\n",
    "   # print(len(best_configs_counts))\n",
    "    #print(best_configs_counts)\n",
    "    v = list(best_configs_counts.values())\n",
    "    k = list(best_configs_counts.keys())\n",
    "    best_config = k[v.index(max(v))]\n",
    "\n",
    "    #convert string of best config to dictionary \n",
    "    best_config = re.sub(' +',' ',best_config)\n",
    "    best_config = best_config.replace(' ',':')\n",
    "    best_config = best_config.replace('\\n',',')\n",
    "    best = dict((x.strip(), y.strip())\n",
    "             for x, y in (element.split(':') \n",
    "             for element in best_config.split(',')))\n",
    "    return best, best_configs_counts, len(dataset_groups)\n",
    "    \n",
    "        "
   ]
  },
  {
   "cell_type": "code",
   "execution_count": 49,
   "metadata": {},
   "outputs": [],
   "source": [
    "# convert dictionary counts of each best configuration to dataframe\n",
    "def dictionary_keystring_to_dataframe(keep_parameters, best_counts):\n",
    "    table_df = pd.DataFrame(columns=keep_parameters+['#datasets'])\n",
    "    for k in best_counts.keys():\n",
    "        #print(f\"{k} \\n\\t\\t---> was the best config in: {best_counts[k]} datasets\")\n",
    "        row_dict = dict()\n",
    "        for col in keep_parameters:\n",
    "            start=k.index(col)\n",
    "            try: \n",
    "                end=k.index(\"\\n\", start)\n",
    "            except: end = len(k)\n",
    "            line = k[start:end]\n",
    "            key = line[0:line.index(' ')]\n",
    "            value = line[line.rfind(' ')+1:len(line)]\n",
    "            row_dict[key]=value\n",
    "        row_dict['#datasets'] = best_counts[k]\n",
    "        table_df = table_df.append(row_dict, ignore_index=True)\n",
    "    return table_df"
   ]
  },
  {
   "cell_type": "markdown",
   "metadata": {},
   "source": [
    "### Análisis de mejor resultado para GRASP\n",
    "List 'files' contains all output files from the GRASP algorithm. Goal is to find the best hyperparameters configuration."
   ]
  },
  {
   "cell_type": "code",
   "execution_count": 78,
   "metadata": {},
   "outputs": [],
   "source": [
    "files_container = '../output/filest_list_GRASP'\n",
    "keep_parameters = ['iterations', 'solutions_per_iteration', 'init_type', 'local_search_type', 'path_relinking_mode']\n",
    "\n",
    "\n",
    "files = []\n",
    "with open(files_container, 'r') as f:\n",
    "    for line in f:\n",
    "        files.append('../'+str(line.replace('\\n','')))\n",
    "\n",
    "df_grasp = getdf_with_params_and_metrics(files=files, keep_parameters=keep_parameters)\n",
    "\n",
    "\n",
    "best_config_grasp, best_counts, ndatasets= get_best_configuration(data_df=df_grasp, hyperparameters=keep_parameters, metric='HV')\n",
    "\n",
    "table_df=dictionary_keystring_to_dataframe(keep_parameters=keep_parameters, best_counts=best_counts)\n",
    "\n",
    "print(f\"Counts of best configurations found in {ndatasets} datasets:\")\n",
    "display(table_df)\n",
    "\n",
    "print(f\"\\nBest hyperparameter configuration for GRASP is:\")\n",
    "for param in best_config_grasp:\n",
    "    print(f\"{param}:{best_config_grasp[param]}\")\n"
   ]
  },
  {
   "cell_type": "markdown",
   "metadata": {},
   "source": [
    "### Find best config and result in geneticNDS\n",
    "List 'files' contains all output files from the geneticNDS algorithm. Goal is to find the best hyperparameters configuration."
   ]
  },
  {
   "cell_type": "code",
   "execution_count": 4,
   "metadata": {},
   "outputs": [
    {
     "ename": "FileNotFoundError",
     "evalue": "[Errno 2] No such file or directory: '../output/filest_list_geneticNDS'",
     "output_type": "error",
     "traceback": [
      "\u001b[1;31m---------------------------------------------------------------------------\u001b[0m",
      "\u001b[1;31mFileNotFoundError\u001b[0m                         Traceback (most recent call last)",
      "\u001b[1;32mC:\\Users\\PABLO~1.BER\\AppData\\Local\\Temp/ipykernel_10184/3180037058.py\u001b[0m in \u001b[0;36m<module>\u001b[1;34m\u001b[0m\n\u001b[0;32m      3\u001b[0m \u001b[1;33m\u001b[0m\u001b[0m\n\u001b[0;32m      4\u001b[0m \u001b[0mfiles\u001b[0m \u001b[1;33m=\u001b[0m \u001b[1;33m[\u001b[0m\u001b[1;33m]\u001b[0m\u001b[1;33m\u001b[0m\u001b[1;33m\u001b[0m\u001b[0m\n\u001b[1;32m----> 5\u001b[1;33m \u001b[1;32mwith\u001b[0m \u001b[0mopen\u001b[0m\u001b[1;33m(\u001b[0m\u001b[0mfiles_container\u001b[0m\u001b[1;33m,\u001b[0m \u001b[1;34m'r'\u001b[0m\u001b[1;33m)\u001b[0m \u001b[1;32mas\u001b[0m \u001b[0mf\u001b[0m\u001b[1;33m:\u001b[0m\u001b[1;33m\u001b[0m\u001b[1;33m\u001b[0m\u001b[0m\n\u001b[0m\u001b[0;32m      6\u001b[0m     \u001b[1;32mfor\u001b[0m \u001b[0mline\u001b[0m \u001b[1;32min\u001b[0m \u001b[0mf\u001b[0m\u001b[1;33m:\u001b[0m\u001b[1;33m\u001b[0m\u001b[1;33m\u001b[0m\u001b[0m\n\u001b[0;32m      7\u001b[0m         \u001b[0mfiles\u001b[0m\u001b[1;33m.\u001b[0m\u001b[0mappend\u001b[0m\u001b[1;33m(\u001b[0m\u001b[1;34m'../'\u001b[0m\u001b[1;33m+\u001b[0m\u001b[0mstr\u001b[0m\u001b[1;33m(\u001b[0m\u001b[0mline\u001b[0m\u001b[1;33m.\u001b[0m\u001b[0mreplace\u001b[0m\u001b[1;33m(\u001b[0m\u001b[1;34m'\\n'\u001b[0m\u001b[1;33m,\u001b[0m\u001b[1;34m''\u001b[0m\u001b[1;33m)\u001b[0m\u001b[1;33m)\u001b[0m\u001b[1;33m)\u001b[0m\u001b[1;33m\u001b[0m\u001b[1;33m\u001b[0m\u001b[0m\n",
      "\u001b[1;31mFileNotFoundError\u001b[0m: [Errno 2] No such file or directory: '../output/filest_list_geneticNDS'"
     ]
    }
   ],
   "source": [
    "files_container = '../output/filest_list_geneticNDS'\n",
    "keep_parameters = ['population_length', 'max_generations','max_evaluations', 'selection_candidates', 'crossover_prob', 'mutation_prob', 'mutation', 'replacement']\n",
    "\n",
    "\n",
    "files = []\n",
    "with open(files_container, 'r') as f:\n",
    "    for line in f:\n",
    "        files.append('../'+str(line.replace('\\n','')))\n",
    "\n",
    "\n",
    "df_genetic = getdf_with_params_and_metrics(files=files, keep_parameters=keep_parameters)\n",
    "best_config_geneticNDS= get_best_configuration(data_df=df_genetic, hyperparameters=keep_parameters, metric='HV')\n",
    "\n",
    "#display(df_genetic)\n",
    "print(f\"Best hyperparameter configuration for Genetic NDSalgorithm is:\\n {best_config_geneticNDS}\")      \n",
    "\n",
    "        \n",
    "\n"
   ]
  },
  {
   "cell_type": "markdown",
   "metadata": {},
   "source": [
    "### Análisis de mejor resultado para NSGAii\n",
    "Run when global list 'files' contains all output files from the NSGAii algorithm. Goal is to find the best hyperparameters configuration."
   ]
  },
  {
   "cell_type": "code",
   "execution_count": null,
   "metadata": {},
   "outputs": [
    {
     "name": "stdout",
     "output_type": "stream",
     "text": [
      "Best hyperparameter configuration for NSGAii is:\n",
      " {'population_length': '10', 'max_generations': '10', 'max_evaluations': '10000', 'selection_candidates': '2', 'crossover_prob': '0.8', 'mutation_prob': '0.1', 'selection': 'tournament', 'crossover': 'onepoint', 'mutation': 'flip1bit', 'replacement': 'elitism'}\n"
     ]
    }
   ],
   "source": [
    "keep_parameters = ['population_length', 'max_generations','max_evaluations', 'selection_candidates', 'crossover_prob', 'mutation_prob','selection','crossover','mutation','replacement']\n",
    "\n",
    "files_container = '../output/filest_list_nsgaii'\n",
    "files = []\n",
    "with open(files_container, 'r') as f:\n",
    "    for line in f:\n",
    "        files.append('../'+str(line.replace('\\n','')))\n",
    "\n",
    "\n",
    "df_nsgaii = getdf_with_params_and_metrics(files=files, keep_parameters=keep_parameters)\n",
    "best_config_nsgaii= get_best_configuration(data_df=df_nsgaii, hyperparameters=keep_parameters, metric='HV')\n",
    "\n",
    "#display(df_nsgaii)\n",
    "print(f\"Best hyperparameter configuration for NSGAii is:\\n {best_config_nsgaii}\")    "
   ]
  },
  {
   "cell_type": "markdown",
   "metadata": {},
   "source": []
  },
  {
   "cell_type": "markdown",
   "metadata": {},
   "source": [
    "### Find best config and result in UMDA\n",
    "List 'files' contains all output files from the UMDA algorithm. Goal is to find the best hyperparameters configuration.\n"
   ]
  },
  {
   "cell_type": "code",
   "execution_count": null,
   "metadata": {},
   "outputs": [
    {
     "name": "stdout",
     "output_type": "stream",
     "text": [
      "Best hyperparameter configuration for UMDA is:\n",
      " {'population_length': '100', 'max_generations': '300', 'max_evaluations': '10000', 'selection_scheme': 'nds', 'replacement_scheme': 'elitism'}\n"
     ]
    }
   ],
   "source": [
    "keep_parameters = ['population_length', 'max_generations','max_evaluations', 'selection_scheme', 'replacement_scheme']\n",
    "\n",
    "files_container = '../output/filest_list_umda'\n",
    "files = []\n",
    "with open(files_container, 'r') as f:\n",
    "    for line in f:\n",
    "        files.append('../'+str(line.replace('\\n','')))\n",
    "\n",
    "\n",
    "df_umda = getdf_with_params_and_metrics(files=files, keep_parameters=keep_parameters)\n",
    "best_config_umda= get_best_configuration(data_df=df_umda, hyperparameters=keep_parameters, metric='HV')\n",
    "\n",
    "#display(df_umda)\n",
    "print(f\"Best hyperparameter configuration for UMDA is:\\n {best_config_umda}\")    "
   ]
  },
  {
   "cell_type": "markdown",
   "metadata": {},
   "source": [
    "### Find best config and result in PBIL\n",
    "List 'files' contains all output files from the PBIL algorithm. Goal is to find the best hyperparameters configuration."
   ]
  },
  {
   "cell_type": "code",
   "execution_count": null,
   "metadata": {},
   "outputs": [
    {
     "name": "stdout",
     "output_type": "stream",
     "text": [
      "Best hyperparameter configuration for PBIL is:\n",
      " {'population_length': '100.0', 'max_generations': '300.0', 'max_evaluations': '10000.0', 'learning_rate': '0.1', 'mutation_prob': '0.1', 'mutation_shift': '0.1'}\n"
     ]
    }
   ],
   "source": [
    "keep_parameters = ['population_length', 'max_generations','max_evaluations', 'learning_rate', 'mutation_prob','mutation_shift']\n",
    "\n",
    "files_container = '../output/filest_list_pbil'\n",
    "files = []\n",
    "with open(files_container, 'r') as f:\n",
    "    for line in f:\n",
    "        files.append('../'+str(line.replace('\\n','')))\n",
    "\n",
    "\n",
    "df_pbil = getdf_with_params_and_metrics(files=files, keep_parameters=keep_parameters)\n",
    "best_config_pbil= get_best_configuration(data_df=df_pbil, hyperparameters=keep_parameters, metric='HV')\n",
    "\n",
    "#display(df_pbil)\n",
    "print(f\"Best hyperparameter configuration for PBIL is:\\n {best_config_pbil}\")   "
   ]
  },
  {
   "cell_type": "markdown",
   "metadata": {},
   "source": [
    "### Find best config and result in FEDA\n",
    "List 'files' contains all output files from the FEDA algorithm. Goal is to find the best hyperparameters configuration."
   ]
  },
  {
   "cell_type": "code",
   "execution_count": null,
   "metadata": {},
   "outputs": [
    {
     "name": "stdout",
     "output_type": "stream",
     "text": [
      "Best hyperparameter configuration for FEDA is:\n",
      " {'population_length': '100', 'max_generations': '300', 'max_evaluations': '10000', 'selection_scheme': 'nds'}\n"
     ]
    }
   ],
   "source": [
    "keep_parameters = ['population_length', 'max_generations','max_evaluations', 'selection_scheme']\n",
    "\n",
    "files_container = '../output/filest_list_feda'\n",
    "files = []\n",
    "with open(files_container, 'r') as f:\n",
    "    for line in f:\n",
    "        files.append('../'+str(line.replace('\\n','')))\n",
    "\n",
    "\n",
    "df_feda = getdf_with_params_and_metrics(files=files, keep_parameters=keep_parameters)\n",
    "best_config_feda= get_best_configuration(data_df=df_feda, hyperparameters=keep_parameters, metric='HV')\n",
    "\n",
    "#display(df_feda)\n",
    "print(f\"Best hyperparameter configuration for FEDA is:\\n {best_config_feda}\")   "
   ]
  }
 ],
 "metadata": {
  "kernelspec": {
   "display_name": "Python 3.9.5 64-bit",
   "language": "python",
   "name": "python3"
  },
  "language_info": {
   "codemirror_mode": {
    "name": "ipython",
    "version": 3
   },
   "file_extension": ".py",
   "mimetype": "text/x-python",
   "name": "python",
   "nbconvert_exporter": "python",
   "pygments_lexer": "ipython3",
   "version": "3.9.5"
  },
  "orig_nbformat": 4,
  "vscode": {
   "interpreter": {
    "hash": "72c0601c4fb6bbf9d900adba2b82670383af68cbbd272be51758c4d21ecb6472"
   }
  }
 },
 "nbformat": 4,
 "nbformat_minor": 2
}
