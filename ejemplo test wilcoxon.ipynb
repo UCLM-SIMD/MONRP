{
 "cells": [
  {
   "cell_type": "markdown",
   "id": "everyday-metallic",
   "metadata": {},
   "source": [
    "**Ejemplo de test de wilcoxon (test de suma de rango), no pareado y no paramétrico**"
   ]
  },
  {
   "cell_type": "code",
   "execution_count": 1,
   "id": "mighty-tulsa",
   "metadata": {},
   "outputs": [
    {
     "name": "stdout",
     "output_type": "stream",
     "text": [
      "6.69615 4.1091\n",
      "0.01016520189195626\n"
     ]
    }
   ],
   "source": [
    "from scipy.stats import ranksums\n",
    "import numpy as np\n",
    "\n",
    "#valor de la métrica de interés obtenida en cada una de las 10 ejecuciones del algoritmoA en el dataset X:\n",
    "performance_A=[4.567,7.567,5.678,5.567,8.4545,6.666,7.786,2.345,8.764,9.567]\n",
    "#valor de la métrica de interés obtenida en cada una de las 10 ejecuciones del algoritmoB en el dataset X:\n",
    "performance_B=[2.345,1.445,2.345,5.345,3.456,6.567,4.344,6.456,3.443,5.345]\n",
    "\n",
    "#veo que A tiene mayor media que B\n",
    "print(np.mean(performance_A),np.mean(performance_B))\n",
    "\n",
    "#para rechazar que esta diferencia sea por hazar (unos pocos valores inusualmente altos que aumentan la media), hago un test estadístico.\n",
    "#Como los arrays tienen menos de 30 valores, no puedo suponer que siguen una distribución normal, así que el test tiene que ser no paramétrico\n",
    "#Como el valor de performance_A[i] no se calcula sobre los mismos datos que performance_B[i], el test es no pareado.\n",
    "#--> test de wilcoxon, también conocido como test de suma de rango.\n",
    "#la llamada a ranksums devuelve 2 valores. me interesa el segundo, el p-value. Si p-value<0.05, entonces las medias sí son\n",
    "#estadísticamente diferentes, y por lo tanto el algoritmo A será estadísticamente mejor que B en la métrica comparada.\n",
    "_, p = ranksums(performance_A, performance_B)\n",
    "print(p)\n",
    "\n"
   ]
  },
  {
   "cell_type": "markdown",
   "id": "steady-rebecca",
   "metadata": {},
   "source": [
    "**Lo mismo, pero preparado para comparar varias métricas para 2 algoritmos.**"
   ]
  },
  {
   "cell_type": "code",
   "execution_count": 2,
   "id": "practical-departure",
   "metadata": {},
   "outputs": [
    {
     "name": "stdout",
     "output_type": "stream",
     "text": [
      "Valores Simulados para el Algoritmo A:\n",
      " [[0.7107378  0.44564102 0.74434326 0.48617433 0.51787065 0.83399063\n",
      "  0.63952623 0.00629671 0.17417714 0.72782077]\n",
      " [0.13150088 0.27713343 0.09685334 0.31779279 0.63292582 0.66109588\n",
      "  0.11632136 0.9225047  0.99414182 0.45876033]\n",
      " [0.93389189 0.57806319 0.63592193 0.31293112 0.27246002 0.90287217\n",
      "  0.85277096 0.84750892 0.60570152 0.01601203]\n",
      " [0.46630717 0.21580542 0.48694281 0.52252237 0.26267187 0.24584593\n",
      "  0.67251175 0.54594609 0.89343854 0.27820296]] \n",
      "\n",
      "Valores Simulados para el Algoritmo B:\n",
      " [[0.47986672 0.23658105 0.35745629 0.83962349 0.88570861 0.33584883\n",
      "  0.59171137 0.37647184 0.02424475 0.78009457]\n",
      " [0.10312859 0.90221268 0.66827262 0.01983892 0.92625475 0.23693069\n",
      "  0.48332212 0.48942517 0.25255302 0.30127539]\n",
      " [0.80549213 0.88314493 0.26465374 0.42475428 0.90939711 0.36169416\n",
      "  0.61642191 0.15410999 0.19403207 0.08739682]\n",
      " [0.84914999 0.20074205 0.51982411 0.91551342 0.20716471 0.1607589\n",
      "  0.4975807  0.03110203 0.19693632 0.98955277]] \n",
      "\n"
     ]
    },
    {
     "data": {
      "text/html": [
       "<div>\n",
       "<style scoped>\n",
       "    .dataframe tbody tr th:only-of-type {\n",
       "        vertical-align: middle;\n",
       "    }\n",
       "\n",
       "    .dataframe tbody tr th {\n",
       "        vertical-align: top;\n",
       "    }\n",
       "\n",
       "    .dataframe thead th {\n",
       "        text-align: right;\n",
       "    }\n",
       "</style>\n",
       "<table border=\"1\" class=\"dataframe\">\n",
       "  <thead>\n",
       "    <tr style=\"text-align: right;\">\n",
       "      <th></th>\n",
       "      <th>Métrica</th>\n",
       "      <th>Algoritmo A</th>\n",
       "      <th>Algoritmo B</th>\n",
       "      <th>p-valor</th>\n",
       "    </tr>\n",
       "  </thead>\n",
       "  <tbody>\n",
       "    <tr>\n",
       "      <th>0</th>\n",
       "      <td>Métrica 0</td>\n",
       "      <td>0.529</td>\n",
       "      <td>0.491</td>\n",
       "      <td>0.762</td>\n",
       "    </tr>\n",
       "    <tr>\n",
       "      <th>1</th>\n",
       "      <td>Métrica 1</td>\n",
       "      <td>0.461</td>\n",
       "      <td>0.438</td>\n",
       "      <td>0.880</td>\n",
       "    </tr>\n",
       "    <tr>\n",
       "      <th>2</th>\n",
       "      <td>Métrica 2</td>\n",
       "      <td>0.596</td>\n",
       "      <td>0.470</td>\n",
       "      <td>0.364</td>\n",
       "    </tr>\n",
       "    <tr>\n",
       "      <th>3</th>\n",
       "      <td>Métrica 3</td>\n",
       "      <td>0.459</td>\n",
       "      <td>0.457</td>\n",
       "      <td>0.496</td>\n",
       "    </tr>\n",
       "  </tbody>\n",
       "</table>\n",
       "</div>"
      ],
      "text/plain": [
       "     Métrica Algoritmo A Algoritmo B p-valor\n",
       "0  Métrica 0       0.529       0.491   0.762\n",
       "1  Métrica 1       0.461       0.438   0.880\n",
       "2  Métrica 2       0.596       0.470   0.364\n",
       "3  Métrica 3       0.459       0.457   0.496"
      ]
     },
     "metadata": {},
     "output_type": "display_data"
    },
    {
     "name": "stdout",
     "output_type": "stream",
     "text": [
      "\\begin{tabular}{llll}\n",
      "\\toprule\n",
      "  Métrica & Algoritmo A & Algoritmo B & p-valor \\\\\n",
      "\\midrule\n",
      "Métrica 0 &       0.529 &       0.491 &   0.762 \\\\\n",
      "Métrica 1 &       0.461 &       0.438 &   0.880 \\\\\n",
      "Métrica 2 &       0.596 &       0.470 &   0.364 \\\\\n",
      "Métrica 3 &       0.459 &       0.457 &   0.496 \\\\\n",
      "\\bottomrule\n",
      "\\end{tabular}\n",
      "\n"
     ]
    }
   ],
   "source": [
    "from scipy.stats import ranksums\n",
    "import numpy as np\n",
    "import pandas as pd\n",
    "\n",
    "#simulo una matriz de 10 valores para 4 métricas\n",
    "num_metricas=4\n",
    "performances_A=np.random.random_sample((num_metricas,10))\n",
    "performances_B=np.random.random_sample((num_metricas,10))\n",
    "print(\"Valores Simulados para el Algoritmo A:\\n\", performances_A,\"\\n\")\n",
    "print(\"Valores Simulados para el Algoritmo B:\\n\", performances_B,\"\\n\")\n",
    "\n",
    "#para ir recogiendo los resultados que quiero mostrar\n",
    "results=list()\n",
    "signif_indices=[]\n",
    "\n",
    "\n",
    "#hago el test para cada métrica, comparando los algoritmos A y B\n",
    "for j in range(num_metricas):\n",
    "    results.append(\"Métrica \"+str(j))\n",
    "    results.append(\"{:.3f}\".format(np.mean((performances_A[j]))))\n",
    "    results.append(\"{:.3f}\".format(np.mean(performances_B[j])))\n",
    "    \n",
    "    _, p = ranksums(performances_A[j], performances_B[j])\n",
    "    if p>=0.05:\n",
    "        mark = ''\n",
    "    else:\n",
    "        mark = '*'\n",
    "        signif_indices.append(j)\n",
    "    p =\"{:.3f}\".format(p)+mark\n",
    "    results.append(p)\n",
    "\n",
    "#formatear la salida\n",
    "table = np.asmatrix(results)\n",
    "table=table.reshape(num_metricas,4)\n",
    "table_df=pd.DataFrame(table,columns=[\"Métrica\",\"Algoritmo A\",\"Algoritmo B\",\"p-valor\"])\n",
    "display(table_df)\n",
    "print(table_df.to_latex(index=False)) \n",
    "    \n",
    "    \n",
    "    \n",
    "    \n"
   ]
  }
 ],
 "metadata": {
  "kernelspec": {
   "display_name": "Python 3",
   "language": "python",
   "name": "python3"
  },
  "language_info": {
   "codemirror_mode": {
    "name": "ipython",
    "version": 3
   },
   "file_extension": ".py",
   "mimetype": "text/x-python",
   "name": "python",
   "nbconvert_exporter": "python",
   "pygments_lexer": "ipython3",
   "version": "3.8.7"
  }
 },
 "nbformat": 4,
 "nbformat_minor": 5
}
