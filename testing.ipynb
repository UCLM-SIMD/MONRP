{
 "cells": [
  {
   "cell_type": "code",
   "execution_count": null,
   "id": "compressed-kelly",
   "metadata": {},
   "outputs": [],
   "source": []
  },
  {
   "cell_type": "code",
   "execution_count": null,
   "id": "raising-swing",
   "metadata": {},
   "outputs": [],
   "source": [
    "from algorithms.EDA.UMDA.umda_algorithm import UMDAAlgorithm\n",
    "alg = UMDAAlgorithm(dataset_name=\"1\",random_seed=1,population_length=4,max_generations=3,selected_individuals=2)\n",
    "alg.run()"
   ]
  },
  {
   "cell_type": "code",
   "execution_count": 1,
   "id": "regular-oasis",
   "metadata": {},
   "outputs": [
    {
     "name": "stdout",
     "output_type": "stream",
     "text": [
      "PBIs selected in this Solution: [ 1  9 11 13 15 17]\n",
      "Satisfaction: 0.16642803963117808\n",
      "Cost: 0.19393218322427125\n",
      "Mono Objective Score: 0.139394885211764\n",
      "PBIs selected in this Solution: [ 0  1  2  3  4  5  8 12 13 14 17 18 19]\n",
      "Satisfaction: 0.3947654773495218\n",
      "Cost: 0.43604997025580017\n",
      "Mono Objective Score: 0.2748967553539959\n",
      "PBIs selected in this Solution: [ 3  4  5  6  8 11 12 13]\n",
      "Satisfaction: 0.24557585476204113\n",
      "Cost: 0.3854848304580607\n",
      "Mono Objective Score: 0.17724903901030103\n",
      "PBIs selected in this Solution: [ 1  3  4  5  8  9 12 13 16]\n",
      "Satisfaction: 0.30290361376782543\n",
      "Cost: 0.39797739440809043\n",
      "Mono Objective Score: 0.2166727552100913\n"
     ]
    },
    {
     "data": {
      "text/plain": [
       "{'population': [<models.solution.Solution at 0x1cb8c1d8c70>,\n",
       "  <models.solution.Solution at 0x1cb8c1dea90>,\n",
       "  <models.solution.Solution at 0x1cb8c1df850>,\n",
       "  <models.solution.Solution at 0x1cb8c1e2610>],\n",
       " 'time': 0.003957271575927734,\n",
       " 'numGenerations': 3,\n",
       " 'best_individual': None}"
      ]
     },
     "execution_count": 1,
     "metadata": {},
     "output_type": "execute_result"
    }
   ],
   "source": [
    "from algorithms.EDA.PBIL.pbil_algorithm import PBILAlgorithm\n",
    "alg = PBILAlgorithm(dataset_name=\"1\",random_seed=1,population_length=4, max_generations=3,\n",
    "                 learning_rate=0.1, mutation_prob=0.5, mutation_shift=0.1)\n",
    "alg.run()"
   ]
  },
  {
   "cell_type": "code",
   "execution_count": null,
   "id": "automotive-hunger",
   "metadata": {},
   "outputs": [],
   "source": [
    "from algorithms.GRASP.GraspSolution import GraspSolution\n",
    "import numpy as np\n",
    "sol = GraspSolution(None, costs=alg.dataset.pbis_cost_scaled,\n",
    "                                           values=alg.dataset.pbis_satisfaction_scaled,selected =[1,0,1,1,1,1,1,1,1,0]\n",
    "                   )\n",
    "print(sol)"
   ]
  },
  {
   "cell_type": "code",
   "execution_count": null,
   "id": "seeing-necessity",
   "metadata": {},
   "outputs": [],
   "source": [
    "print(np.random.binomial(1, [0,0,0.5,0.5]))"
   ]
  }
 ],
 "metadata": {
  "kernelspec": {
   "display_name": "Python 3",
   "language": "python",
   "name": "python3"
  },
  "language_info": {
   "codemirror_mode": {
    "name": "ipython",
    "version": 3
   },
   "file_extension": ".py",
   "mimetype": "text/x-python",
   "name": "python",
   "nbconvert_exporter": "python",
   "pygments_lexer": "ipython3",
   "version": "3.8.7"
  }
 },
 "nbformat": 4,
 "nbformat_minor": 5
}
