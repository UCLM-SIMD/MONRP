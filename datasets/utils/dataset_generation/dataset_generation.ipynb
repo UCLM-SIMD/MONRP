{
 "cells": [
  {
   "cell_type": "markdown",
   "id": "incorrect-comedy",
   "metadata": {},
   "source": [
    "# Dataset generation\n",
    "Two types of projects generated into json files"
   ]
  },
  {
   "cell_type": "code",
   "execution_count": 42,
   "metadata": {
    "collapsed": false,
    "pycharm": {
     "name": "#%%\n"
    }
   },
   "outputs": [],
   "source": [
    "from dataset_generation import random_dataset_generator\n",
    "import random\n",
    "import sys  \n",
    "sys.path.insert(0, '../datasets')"
   ]
  },
  {
   "cell_type": "markdown",
   "id": "continuing-english",
   "metadata": {},
   "source": [
    "## Classic project datasets\n",
    "More stakeholders and requirements to plan for a release, less interaction between them, generic requirement estimations."
   ]
  },
  {
   "cell_type": "markdown",
   "id": "narrow-scene",
   "metadata": {},
   "source": [
    "Total costs were extracted from ISBSG 2015, using {A,B} values for \"UFP rating\", \"New development\" for \"Development type\" and \"IFPUG 4+\" for \"Count approach\". This procedure is used to generate percentile 25,50,75 of total FPs of a classic project, in order to generate a realistic sample of classic estimation of requirements, done by selecting randomly, for a given number of pbis, a list of costs that sums up to the percentile value. "
   ]
  },
  {
   "cell_type": "code",
   "execution_count": 37,
   "id": "6d5a12e8",
   "metadata": {},
   "outputs": [
    {
     "data": {
      "text/plain": [
       "156.0"
      ]
     },
     "execution_count": 37,
     "metadata": {},
     "output_type": "execute_result"
    }
   ],
   "source": [
    "\n",
    "\n",
    "\n",
    "\n",
    "    \n"
   ]
  },
  {
   "cell_type": "code",
   "execution_count": 56,
   "id": "diagnostic-behalf",
   "metadata": {},
   "outputs": [],
   "source": [
    "reqs=[200, 300]\n",
    "stkh=[15,50]\n",
    "percentile_total_costs=[156,312,705]\n",
    "range_stakeholder_importances=[1,3,5]\n",
    "range_stakeholder_pbis_priorities=[1,3,5]\n",
    "\n",
    "percentage_dependencies_min= 0.4\n",
    "percentage_dependencies_max= 0.5\n",
    "len_dependencies = [2] # None\n",
    "\n",
    "counter=0\n",
    "perc=2\n",
    "for r in reqs:\n",
    "    for s in stkh:\n",
    "        for len_deps in len_dependencies:\n",
    "            counter+=1\n",
    "            name=f\"e{counter}\"\n",
    "            percentage_dependencies = random.uniform(percentage_dependencies_min,percentage_dependencies_max)\n",
    "            random_dataset_generator(num_pbis = r, num_stakeholders=s, percentage_dependencies=percentage_dependencies,\n",
    "                                    total_pbi_costs=percentile_total_costs[2], #greatest percentile when there are more attributes\n",
    "                                    range_stakeholder_importances=range_stakeholder_importances,\n",
    "                                    range_stakeholder_pbis_priorities=range_stakeholder_pbis_priorities, name=name, avg_len_dependencies=len_deps)\n",
    "    perc+=1"
   ]
  },
  {
   "cell_type": "markdown",
   "id": "republican-necklace",
   "metadata": {},
   "source": [
    "## Agile project datasets\n",
    "Less stakeholders and requirements to plan for a release, much more interaction between stakeholder interests, Fibonacci estimations."
   ]
  },
  {
   "cell_type": "code",
   "execution_count": 4,
   "id": "empty-special",
   "metadata": {},
   "outputs": [
    {
     "name": "stdout",
     "output_type": "stream",
     "text": [
      "d1\n",
      "d2\n",
      "d3\n",
      "d4\n",
      "d5\n",
      "d6\n"
     ]
    }
   ],
   "source": [
    "reqs=[100, 200, 300]\n",
    "stkh=[15,50]\n",
    "len_dependencies = [2] # [None]\n",
    "range_pbi_costs =[1,1,2,3,5,8,13,21,34]\n",
    "range_stakeholder_importances=[1, 2, 3, 4, 5]\n",
    "range_stakeholder_pbis_priorities=[1, 2, 3, 4, 5]\n",
    "percentage_dependencies_min= 0.4\n",
    "percentage_dependencies_max= 0.5\n",
    "\n",
    "counter=0\n",
    "for r in reqs:\n",
    "    for s in stkh:\n",
    "        for numDeps in len_dependencies:\n",
    "            percentage_dependencies = random.uniform(percentage_dependencies_min,percentage_dependencies_max)\n",
    "            counter+=1\n",
    "            name=f\"d{counter}\"\n",
    "            print(name)\n",
    "            random_dataset_generator(num_pbis = r, num_stakeholders=s, percentage_dependencies=percentage_dependencies,\n",
    "                                 range_pbi_costs =range_pbi_costs, range_stakeholder_importances=range_stakeholder_importances,\n",
    "                                 range_stakeholder_pbis_priorities=range_stakeholder_pbis_priorities, name=name, avg_len_dependencies=numDeps)"
   ]
  }
 ],
 "metadata": {
  "kernelspec": {
   "display_name": "venv",
   "language": "python",
   "name": "python3"
  },
  "language_info": {
   "codemirror_mode": {
    "name": "ipython",
    "version": 3
   },
   "file_extension": ".py",
   "mimetype": "text/x-python",
   "name": "python",
   "nbconvert_exporter": "python",
   "pygments_lexer": "ipython3",
   "version": "3.8.8"
  },
  "vscode": {
   "interpreter": {
    "hash": "a8ea160ae63d8e1d4a0a34ebe2bacd55b5328dee8f965710d1e916ba8880bdac"
   }
  }
 },
 "nbformat": 4,
 "nbformat_minor": 5
}
