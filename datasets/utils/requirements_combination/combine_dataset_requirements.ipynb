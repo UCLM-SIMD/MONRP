{
 "cells": [
  {
   "cell_type": "markdown",
   "id": "ce6a5fb4",
   "metadata": {},
   "source": [
    "## Combine requirements"
   ]
  },
  {
   "cell_type": "code",
   "execution_count": 1,
   "id": "9d7fd40a",
   "metadata": {},
   "outputs": [
    {
     "name": "stdout",
     "output_type": "stream",
     "text": [
      "{'pbis_cost': [3, 12], 'stakeholders_importances': [1, 3], 'stakeholders_pbis_priorities': [[5, 4], [5, 4]], 'dependencies': [None, None]}\n"
     ]
    }
   ],
   "source": [
    "import json\n",
    "from combine_dataset_requirements import combine_dataset_requirements\n",
    "\n",
    "json_data = {\n",
    "    \"pbis_cost\": [3, 3, 3, 3, 3],\n",
    "    \"stakeholders_importances\": [1, 3],\n",
    "    \"stakeholders_pbis_priorities\": [\n",
    "        [4, 2, 1, 2, 5],\n",
    "        [4, 2, 1, 2, 5]\n",
    "    ],\n",
    "    \"dependencies\": [[1, 3], [0, 2], [1], [0], None]\n",
    "}\n",
    "combined_dataset = combine_dataset_requirements(json_data)\n",
    "\n",
    "print(combined_dataset)\n",
    "\n",
    "# save to file\n",
    "with open('combined_dataset.json', 'w') as outfile:\n",
    "    json.dump(combined_dataset, outfile)\n"
   ]
  },
  {
   "cell_type": "code",
   "execution_count": null,
   "id": "c6b6c48a",
   "metadata": {},
   "outputs": [],
   "source": []
  }
 ],
 "metadata": {
  "kernelspec": {
   "display_name": "Python 3 (ipykernel)",
   "language": "python",
   "name": "python3"
  },
  "language_info": {
   "codemirror_mode": {
    "name": "ipython",
    "version": 3
   },
   "file_extension": ".py",
   "mimetype": "text/x-python",
   "name": "python",
   "nbconvert_exporter": "python",
   "pygments_lexer": "ipython3",
   "version": "3.8.8"
  },
  "vscode": {
   "interpreter": {
    "hash": "a8ea160ae63d8e1d4a0a34ebe2bacd55b5328dee8f965710d1e916ba8880bdac"
   }
  }
 },
 "nbformat": 4,
 "nbformat_minor": 5
}
