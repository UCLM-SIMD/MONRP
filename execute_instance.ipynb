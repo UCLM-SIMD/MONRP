{
 "cells": [
  {
   "cell_type": "code",
   "execution_count": 1,
   "id": "conditional-chain",
   "metadata": {},
   "outputs": [
    {
     "name": "stdout",
     "output_type": "stream",
     "text": [
      "Running...\n",
      "31.0 168.39999999999998 137.39999999999998\n",
      "0 178.6 0.7693169092945127\n",
      "4 71 67\n",
      "0 85 0.7882352941176471\n",
      "Time:  8.813303709030151\n",
      "AvgValue:  0.021605132247786644\n",
      "NumSolutions:  15\n",
      "HV:  0.6064027402674395\n",
      "Spread:  0.8769436654626572\n",
      "Spacing:  0.3307604978439399\n"
     ]
    }
   ],
   "source": [
    "from algorithms.genetic.genetic_algorithm import GeneticAlgorithm\n",
    "from algorithms.nsgaii.nsgaii_algorithm import NSGAIIAlgorithm\n",
    "from dataset1 import generate_dataset1_genes\n",
    "from algorithms.genetic_nds.genetic_nds_algorithm import GeneticNDSAlgorithm\n",
    "from dataset2 import generate_dataset2_genes\n",
    "from models.problem import Problem\n",
    "import matplotlib.pyplot as plt\n",
    "import pandas as pd\n",
    "genes=generate_dataset1_genes()\n",
    "objectives_minimization=[\"MAX\",\"MIN\"]\n",
    "problem=Problem(genes,objectives_minimization)\n",
    "seed=54\n",
    "print(\"Running...\")\n",
    "algorithm=NSGAIIAlgorithm(problem,random_seed=seed,population_length=20,max_generations=200,crossover_prob=0.6,\n",
    "\t\t\t\t\t\t   crossover=\"onepoint\",mutation_prob=0.05,mutation=\"flip1bit\",replacement=\"elitism\")\n",
    "result=algorithm.run()\n",
    "print(\"Time: \",result[\"time\"])\n",
    "print(\"AvgValue: \",result[\"avgValue\"])\n",
    "if \"numSolutions\" in result:\n",
    "\tprint(\"NumSolutions: \",result[\"numSolutions\"])\n",
    "\tprint(\"HV: \",result[\"hv\"])\n",
    "\tprint(\"Spread: \",result[\"spread\"])\n",
    "\tprint(\"Spacing: \",result[\"spacing\"])\n"
   ]
  }
 ],
 "metadata": {
  "kernelspec": {
   "display_name": "Python 3",
   "language": "python",
   "name": "python3"
  },
  "language_info": {
   "codemirror_mode": {
    "name": "ipython",
    "version": 3
   },
   "file_extension": ".py",
   "mimetype": "text/x-python",
   "name": "python",
   "nbconvert_exporter": "python",
   "pygments_lexer": "ipython3",
   "version": "3.8.7"
  }
 },
 "nbformat": 4,
 "nbformat_minor": 5
}
