{
 "cells": [
  {
   "cell_type": "code",
   "execution_count": 103,
   "metadata": {},
   "outputs": [
    {
     "output_type": "display_data",
     "data": {
      "text/plain": "<IPython.core.display.HTML object>",
      "text/html": "<style>.container{ width:95%}</style>"
     },
     "metadata": {}
    },
    {
     "output_type": "stream",
     "name": "stdout",
     "text": [
      "C:\\Users\\48259328\\AppData\\Local\\Programs\\Python\\Python39\\python.exe\n"
     ]
    }
   ],
   "source": [
    "# Esta celda actúa sobre la libreta, y permite que se aproveche mejor el espacio.\n",
    "from IPython.core.display import display, HTML\n",
    "display(HTML(\"<style>.container{ width:95%}</style>\"))\n",
    "import sys\n",
    "print(sys.executable) "
   ]
  },
  {
   "cell_type": "code",
   "execution_count": 104,
   "metadata": {},
   "outputs": [
    {
     "output_type": "execute_result",
     "data": {
      "text/plain": [
       "            Algorithm  Population Length  Generations Selection Scheme  \\\n",
       "0    GeneticAlgorithm                 20          100       tournament   \n",
       "1    GeneticAlgorithm                 20          100       tournament   \n",
       "2    GeneticAlgorithm                 20          100       tournament   \n",
       "3    GeneticAlgorithm                 20          100       tournament   \n",
       "4    GeneticAlgorithm                 20          100       tournament   \n",
       "..                ...                ...          ...              ...   \n",
       "133   NSGAIIAlgorithm                 40          100       tournament   \n",
       "134   NSGAIIAlgorithm                 40          100       tournament   \n",
       "135   NSGAIIAlgorithm                 40          100       tournament   \n",
       "136   NSGAIIAlgorithm                 40          100       tournament   \n",
       "137   NSGAIIAlgorithm                 40          100       tournament   \n",
       "\n",
       "     Selection Candidates Crossover Scheme  Crossover Probability  \\\n",
       "0                       2         onepoint                    0.9   \n",
       "1                       2         onepoint                    0.9   \n",
       "2                       2         onepoint                    0.9   \n",
       "3                       2         onepoint                    0.9   \n",
       "4                       2         onepoint                    0.9   \n",
       "..                    ...              ...                    ...   \n",
       "133                     2         onepoint                    0.8   \n",
       "134                     2         onepoint                    0.8   \n",
       "135                     2         onepoint                    0.8   \n",
       "136                     2         onepoint                    0.8   \n",
       "137                     2         onepoint                    0.8   \n",
       "\n",
       "    Mutation Scheme  Mutation Probability Replacement Scheme    Time(s)  \\\n",
       "0          mutation                  0.10            elitism   1.538220   \n",
       "1          mutation                  0.10            elitism   1.463229   \n",
       "2          mutation                  0.10            elitism   1.431600   \n",
       "3          mutation                  0.10            elitism   1.412646   \n",
       "4          mutation                  0.10            elitism   1.464926   \n",
       "..              ...                   ...                ...        ...   \n",
       "133        mutation                  0.05            elitism  12.849535   \n",
       "134        mutation                  0.05            elitism  12.980299   \n",
       "135        mutation                  0.05            elitism  13.059436   \n",
       "136        mutation                  0.05            elitism  12.822327   \n",
       "137        mutation                  0.05            elitism  13.042935   \n",
       "\n",
       "          HV    Spread  \n",
       "0        NaN       NaN  \n",
       "1        NaN       NaN  \n",
       "2        NaN       NaN  \n",
       "3        NaN       NaN  \n",
       "4        NaN       NaN  \n",
       "..       ...       ...  \n",
       "133  10280.8  0.672617  \n",
       "134   9756.6  0.692830  \n",
       "135   8321.4  0.727055  \n",
       "136   9130.6  0.692297  \n",
       "137   8678.4  0.707714  \n",
       "\n",
       "[138 rows x 13 columns]"
      ],
      "text/html": "<div>\n<style scoped>\n    .dataframe tbody tr th:only-of-type {\n        vertical-align: middle;\n    }\n\n    .dataframe tbody tr th {\n        vertical-align: top;\n    }\n\n    .dataframe thead th {\n        text-align: right;\n    }\n</style>\n<table border=\"1\" class=\"dataframe\">\n  <thead>\n    <tr style=\"text-align: right;\">\n      <th></th>\n      <th>Algorithm</th>\n      <th>Population Length</th>\n      <th>Generations</th>\n      <th>Selection Scheme</th>\n      <th>Selection Candidates</th>\n      <th>Crossover Scheme</th>\n      <th>Crossover Probability</th>\n      <th>Mutation Scheme</th>\n      <th>Mutation Probability</th>\n      <th>Replacement Scheme</th>\n      <th>Time(s)</th>\n      <th>HV</th>\n      <th>Spread</th>\n    </tr>\n  </thead>\n  <tbody>\n    <tr>\n      <th>0</th>\n      <td>GeneticAlgorithm</td>\n      <td>20</td>\n      <td>100</td>\n      <td>tournament</td>\n      <td>2</td>\n      <td>onepoint</td>\n      <td>0.9</td>\n      <td>mutation</td>\n      <td>0.10</td>\n      <td>elitism</td>\n      <td>1.538220</td>\n      <td>NaN</td>\n      <td>NaN</td>\n    </tr>\n    <tr>\n      <th>1</th>\n      <td>GeneticAlgorithm</td>\n      <td>20</td>\n      <td>100</td>\n      <td>tournament</td>\n      <td>2</td>\n      <td>onepoint</td>\n      <td>0.9</td>\n      <td>mutation</td>\n      <td>0.10</td>\n      <td>elitism</td>\n      <td>1.463229</td>\n      <td>NaN</td>\n      <td>NaN</td>\n    </tr>\n    <tr>\n      <th>2</th>\n      <td>GeneticAlgorithm</td>\n      <td>20</td>\n      <td>100</td>\n      <td>tournament</td>\n      <td>2</td>\n      <td>onepoint</td>\n      <td>0.9</td>\n      <td>mutation</td>\n      <td>0.10</td>\n      <td>elitism</td>\n      <td>1.431600</td>\n      <td>NaN</td>\n      <td>NaN</td>\n    </tr>\n    <tr>\n      <th>3</th>\n      <td>GeneticAlgorithm</td>\n      <td>20</td>\n      <td>100</td>\n      <td>tournament</td>\n      <td>2</td>\n      <td>onepoint</td>\n      <td>0.9</td>\n      <td>mutation</td>\n      <td>0.10</td>\n      <td>elitism</td>\n      <td>1.412646</td>\n      <td>NaN</td>\n      <td>NaN</td>\n    </tr>\n    <tr>\n      <th>4</th>\n      <td>GeneticAlgorithm</td>\n      <td>20</td>\n      <td>100</td>\n      <td>tournament</td>\n      <td>2</td>\n      <td>onepoint</td>\n      <td>0.9</td>\n      <td>mutation</td>\n      <td>0.10</td>\n      <td>elitism</td>\n      <td>1.464926</td>\n      <td>NaN</td>\n      <td>NaN</td>\n    </tr>\n    <tr>\n      <th>...</th>\n      <td>...</td>\n      <td>...</td>\n      <td>...</td>\n      <td>...</td>\n      <td>...</td>\n      <td>...</td>\n      <td>...</td>\n      <td>...</td>\n      <td>...</td>\n      <td>...</td>\n      <td>...</td>\n      <td>...</td>\n      <td>...</td>\n    </tr>\n    <tr>\n      <th>133</th>\n      <td>NSGAIIAlgorithm</td>\n      <td>40</td>\n      <td>100</td>\n      <td>tournament</td>\n      <td>2</td>\n      <td>onepoint</td>\n      <td>0.8</td>\n      <td>mutation</td>\n      <td>0.05</td>\n      <td>elitism</td>\n      <td>12.849535</td>\n      <td>10280.8</td>\n      <td>0.672617</td>\n    </tr>\n    <tr>\n      <th>134</th>\n      <td>NSGAIIAlgorithm</td>\n      <td>40</td>\n      <td>100</td>\n      <td>tournament</td>\n      <td>2</td>\n      <td>onepoint</td>\n      <td>0.8</td>\n      <td>mutation</td>\n      <td>0.05</td>\n      <td>elitism</td>\n      <td>12.980299</td>\n      <td>9756.6</td>\n      <td>0.692830</td>\n    </tr>\n    <tr>\n      <th>135</th>\n      <td>NSGAIIAlgorithm</td>\n      <td>40</td>\n      <td>100</td>\n      <td>tournament</td>\n      <td>2</td>\n      <td>onepoint</td>\n      <td>0.8</td>\n      <td>mutation</td>\n      <td>0.05</td>\n      <td>elitism</td>\n      <td>13.059436</td>\n      <td>8321.4</td>\n      <td>0.727055</td>\n    </tr>\n    <tr>\n      <th>136</th>\n      <td>NSGAIIAlgorithm</td>\n      <td>40</td>\n      <td>100</td>\n      <td>tournament</td>\n      <td>2</td>\n      <td>onepoint</td>\n      <td>0.8</td>\n      <td>mutation</td>\n      <td>0.05</td>\n      <td>elitism</td>\n      <td>12.822327</td>\n      <td>9130.6</td>\n      <td>0.692297</td>\n    </tr>\n    <tr>\n      <th>137</th>\n      <td>NSGAIIAlgorithm</td>\n      <td>40</td>\n      <td>100</td>\n      <td>tournament</td>\n      <td>2</td>\n      <td>onepoint</td>\n      <td>0.8</td>\n      <td>mutation</td>\n      <td>0.05</td>\n      <td>elitism</td>\n      <td>13.042935</td>\n      <td>8678.4</td>\n      <td>0.707714</td>\n    </tr>\n  </tbody>\n</table>\n<p>138 rows × 13 columns</p>\n</div>"
     },
     "metadata": {},
     "execution_count": 104
    }
   ],
   "source": [
    "import pandas as pd\n",
    "df_alg=pd.read_csv('output/executer.txt',na_values=' -')\n",
    "df_alg"
   ]
  },
  {
   "cell_type": "code",
   "execution_count": 105,
   "metadata": {},
   "outputs": [
    {
     "output_type": "execute_result",
     "data": {
      "text/plain": [
       "  Population Length Generations     Time(s)                  HV        \\\n",
       "                                       mean count          mean count   \n",
       "0                20         100    7.450628    19   7832.736842    19   \n",
       "1                20         300   13.650387     6   8012.566667     6   \n",
       "2                20         400   17.339443    20   9322.460000    20   \n",
       "3                20         500   37.963600     1   9828.000000     1   \n",
       "4                20         700   51.490931     5   9782.120000     5   \n",
       "5                20        1000   81.667214     1  11887.200000     1   \n",
       "6                20        2000  153.260057     5  12176.080000     5   \n",
       "7                40         100   13.010193    36   8536.966667    36   \n",
       "8                40         150   19.127633     5   7781.720000     5   \n",
       "9                40         200   24.708806    10   9222.320000    10   \n",
       "\n",
       "     Spread        \n",
       "       mean count  \n",
       "0  0.744879    19  \n",
       "1  0.641713     6  \n",
       "2  0.691576    20  \n",
       "3  0.869603     1  \n",
       "4  0.761819     5  \n",
       "5  0.863442     1  \n",
       "6  0.780727     5  \n",
       "7  0.724030    36  \n",
       "8  0.738010     5  \n",
       "9  0.675718    10  "
      ],
      "text/html": "<div>\n<style scoped>\n    .dataframe tbody tr th:only-of-type {\n        vertical-align: middle;\n    }\n\n    .dataframe tbody tr th {\n        vertical-align: top;\n    }\n\n    .dataframe thead tr th {\n        text-align: left;\n    }\n</style>\n<table border=\"1\" class=\"dataframe\">\n  <thead>\n    <tr>\n      <th></th>\n      <th>Population Length</th>\n      <th>Generations</th>\n      <th colspan=\"2\" halign=\"left\">Time(s)</th>\n      <th colspan=\"2\" halign=\"left\">HV</th>\n      <th colspan=\"2\" halign=\"left\">Spread</th>\n    </tr>\n    <tr>\n      <th></th>\n      <th></th>\n      <th></th>\n      <th>mean</th>\n      <th>count</th>\n      <th>mean</th>\n      <th>count</th>\n      <th>mean</th>\n      <th>count</th>\n    </tr>\n  </thead>\n  <tbody>\n    <tr>\n      <th>0</th>\n      <td>20</td>\n      <td>100</td>\n      <td>7.450628</td>\n      <td>19</td>\n      <td>7832.736842</td>\n      <td>19</td>\n      <td>0.744879</td>\n      <td>19</td>\n    </tr>\n    <tr>\n      <th>1</th>\n      <td>20</td>\n      <td>300</td>\n      <td>13.650387</td>\n      <td>6</td>\n      <td>8012.566667</td>\n      <td>6</td>\n      <td>0.641713</td>\n      <td>6</td>\n    </tr>\n    <tr>\n      <th>2</th>\n      <td>20</td>\n      <td>400</td>\n      <td>17.339443</td>\n      <td>20</td>\n      <td>9322.460000</td>\n      <td>20</td>\n      <td>0.691576</td>\n      <td>20</td>\n    </tr>\n    <tr>\n      <th>3</th>\n      <td>20</td>\n      <td>500</td>\n      <td>37.963600</td>\n      <td>1</td>\n      <td>9828.000000</td>\n      <td>1</td>\n      <td>0.869603</td>\n      <td>1</td>\n    </tr>\n    <tr>\n      <th>4</th>\n      <td>20</td>\n      <td>700</td>\n      <td>51.490931</td>\n      <td>5</td>\n      <td>9782.120000</td>\n      <td>5</td>\n      <td>0.761819</td>\n      <td>5</td>\n    </tr>\n    <tr>\n      <th>5</th>\n      <td>20</td>\n      <td>1000</td>\n      <td>81.667214</td>\n      <td>1</td>\n      <td>11887.200000</td>\n      <td>1</td>\n      <td>0.863442</td>\n      <td>1</td>\n    </tr>\n    <tr>\n      <th>6</th>\n      <td>20</td>\n      <td>2000</td>\n      <td>153.260057</td>\n      <td>5</td>\n      <td>12176.080000</td>\n      <td>5</td>\n      <td>0.780727</td>\n      <td>5</td>\n    </tr>\n    <tr>\n      <th>7</th>\n      <td>40</td>\n      <td>100</td>\n      <td>13.010193</td>\n      <td>36</td>\n      <td>8536.966667</td>\n      <td>36</td>\n      <td>0.724030</td>\n      <td>36</td>\n    </tr>\n    <tr>\n      <th>8</th>\n      <td>40</td>\n      <td>150</td>\n      <td>19.127633</td>\n      <td>5</td>\n      <td>7781.720000</td>\n      <td>5</td>\n      <td>0.738010</td>\n      <td>5</td>\n    </tr>\n    <tr>\n      <th>9</th>\n      <td>40</td>\n      <td>200</td>\n      <td>24.708806</td>\n      <td>10</td>\n      <td>9222.320000</td>\n      <td>10</td>\n      <td>0.675718</td>\n      <td>10</td>\n    </tr>\n  </tbody>\n</table>\n</div>"
     },
     "metadata": {},
     "execution_count": 105
    }
   ],
   "source": [
    "df_nsgaii=df_alg[df_alg['Algorithm']=='NSGAIIAlgorithm']\n",
    "df_nsgaii=df_nsgaii[[\"Population Length\",\"Generations\",\"Time(s)\",\"HV\",\"Spread\"]]\n",
    "summary = (df_nsgaii.groupby(['Population Length', 'Generations'])\n",
    "                 [['Time(s)', 'HV', 'Spread']]\n",
    "                 .agg(['mean','count'])\n",
    "                 .reset_index()\n",
    "          )\n",
    "summary\n",
    "\n"
   ]
  },
  {
   "cell_type": "code",
   "execution_count": 106,
   "metadata": {},
   "outputs": [],
   "source": [
    "import matplotlib as mpl\n",
    "import matplotlib.pyplot as plt\n",
    "from IPython.display import set_matplotlib_formats\n",
    "set_matplotlib_formats('retina')"
   ]
  },
  {
   "cell_type": "code",
   "execution_count": 107,
   "metadata": {},
   "outputs": [
    {
     "output_type": "execute_result",
     "data": {
      "text/plain": [
       "'\\nindex=summary.index\\nplt.scatter(summary)\\nplt.legend(summary.columns)\\n'"
      ]
     },
     "metadata": {},
     "execution_count": 107
    }
   ],
   "source": [
    "'''\n",
    "index=summary.index\n",
    "plt.scatter(summary)\n",
    "plt.legend(summary.columns)\n",
    "'''"
   ]
  }
 ],
 "metadata": {
  "kernelspec": {
   "display_name": "Python 3",
   "language": "python",
   "name": "python3"
  },
  "language_info": {
   "codemirror_mode": {
    "name": "ipython",
    "version": 3
   },
   "file_extension": ".py",
   "mimetype": "text/x-python",
   "name": "python",
   "nbconvert_exporter": "python",
   "pygments_lexer": "ipython3",
   "version": "3.9.0-final"
  }
 },
 "nbformat": 4,
 "nbformat_minor": 4
}