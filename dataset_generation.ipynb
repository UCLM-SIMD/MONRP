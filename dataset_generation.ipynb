{
 "cells": [
  {
   "cell_type": "markdown",
   "id": "incorrect-comedy",
   "metadata": {},
   "source": [
    "# Dataset generation\n",
    "Two types of projects generated into json files:\n",
    "- **Classic projects**: more stakeholders and requirements to plan for a release, less interaction between them, generic requirement estimations\n",
    "- **Agile projects**: less stakeholders and requirements to plan for a release, much more interaction between stakeholder interests, Fibonacci estimations"
   ]
  },
  {
   "cell_type": "code",
   "execution_count": 1,
   "id": "awful-flight",
   "metadata": {},
   "outputs": [],
   "source": [
    "import json\n",
    "from datasets.random_dataset_generator import random_dataset_generator "
   ]
  },
  {
   "cell_type": "markdown",
   "id": "continuing-english",
   "metadata": {},
   "source": [
    "## Classic project datasets"
   ]
  },
  {
   "cell_type": "code",
   "execution_count": 2,
   "id": "diagnostic-behalf",
   "metadata": {},
   "outputs": [],
   "source": [
    "reqs=[50,200,500]\n",
    "stkh=[15,100]\n",
    "range_pbi_costs =[x for x in range(1,41)]\n",
    "range_stakeholder_importances=[1,3,5]\n",
    "range_stakeholder_pbis_priorities=[1,3,5]\n",
    "percentage_dependencies= 0.45\n",
    "\n",
    "counter=0\n",
    "for r in reqs:\n",
    "    for s in stkh:\n",
    "        counter+=1\n",
    "        name=f\"c{counter}\"\n",
    "        random_dataset_generator(num_pbis = r, num_stakeholders=s, percentage_dependencies=percentage_dependencies,\n",
    "                             range_pbi_costs =range_pbi_costs, range_stakeholder_importances=range_stakeholder_importances,\n",
    "                             range_stakeholder_pbis_priorities=range_stakeholder_pbis_priorities, name=name)"
   ]
  },
  {
   "cell_type": "markdown",
   "id": "republican-necklace",
   "metadata": {},
   "source": [
    "## Agile project datasets"
   ]
  },
  {
   "cell_type": "code",
   "execution_count": null,
   "id": "empty-special",
   "metadata": {},
   "outputs": [],
   "source": [
    "reqs=[50,200]\n",
    "stkh=[5,15]\n",
    "range_pbi_costs =[1,1,2,3,5,8,13,21,34]\n",
    "range_stakeholder_importances=[1, 2, 3, 4, 5]\n",
    "range_stakeholder_pbis_priorities=[1, 2, 3, 4, 5]\n",
    "percentage_dependencies= 0.45\n",
    "\n",
    "counter=0\n",
    "for r in reqs:\n",
    "    for s in stkh:\n",
    "        counter+=1\n",
    "        name=f\"a{counter}\"\n",
    "        random_dataset_generator(num_pbis = r, num_stakeholders=s, percentage_dependencies=percentage_dependencies,\n",
    "                             range_pbi_costs =range_pbi_costs, range_stakeholder_importances=range_stakeholder_importances,\n",
    "                             range_stakeholder_pbis_priorities=range_stakeholder_pbis_priorities, name=name)"
   ]
  }
 ],
 "metadata": {
  "kernelspec": {
   "display_name": "Python 3",
   "language": "python",
   "name": "python3"
  },
  "language_info": {
   "codemirror_mode": {
    "name": "ipython",
    "version": 3
   },
   "file_extension": ".py",
   "mimetype": "text/x-python",
   "name": "python",
   "nbconvert_exporter": "python",
   "pygments_lexer": "ipython3",
   "version": "3.8.7"
  }
 },
 "nbformat": 4,
 "nbformat_minor": 5
}
