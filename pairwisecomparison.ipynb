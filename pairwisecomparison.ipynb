{
 "cells": [
  {
   "cell_type": "code",
   "execution_count": 2,
   "metadata": {},
   "outputs": [],
   "source": [
    "import pandas as pd\n",
    "import numpy as np\n",
    "import scipy\n",
    "import scikit_posthocs as sp"
   ]
  },
  {
   "cell_type": "code",
   "execution_count": 3,
   "metadata": {},
   "outputs": [],
   "source": [
    "folder = \"./output/metrics/\"\n",
    "pbil_df = pd.read_csv(f'{folder}merged_output_pbil.txt')\n",
    "umda_df = pd.read_csv(f'{folder}merged_output_umda.txt')\n",
    "genetic_df = pd.read_csv(f'{folder}merged_output_genetic.txt')\n",
    "nsga_df = pd.read_csv(f'{folder}merged_output_genetic.txt')"
   ]
  },
  {
   "cell_type": "code",
   "execution_count": null,
   "metadata": {},
   "outputs": [],
   "source": [
    "columns = ['Algorithm','HV','Spread','Spacing','NumSolutions']\n",
    "\n",
    "\n",
    "for dataset in ['1','2','s3']:\n",
    "\n",
    "    genetic = genetic_df.loc[(genetic_df['Dataset']==dataset) & (genetic_df['Algorithm']=='GeneticNDSAlgorithm') & (genetic_df['Population Length']==100) & (genetic_df['Generations']==100) & \n",
    "    (genetic_df['Crossover Probability']==0.8) & (genetic_df['Mutation Probability']==1.0) & (genetic_df['Mutation Scheme']=='flip1bit')][columns]\n",
    "\n",
    "    nsga = nsga_df.loc[(genetic_df['Dataset']==dataset) & (nsga_df['Algorithm']=='NSGAIIAlgorithm') & (nsga_df['Population Length']==100) & (nsga_df['Generations']==100) & \n",
    "    (nsga_df['Crossover Probability']==0.6) & (nsga_df['Mutation Probability']==1.0) & (nsga_df['Mutation Scheme']=='flip1bit')][columns]\n",
    "\n",
    "    umda = umda_df.loc[(umda_df['Dataset']==dataset) & (umda_df['Population Length']==200) & (umda_df['MaxGenerations']==50) & (umda_df['Replacement Scheme']=='elitism') & (umda_df['Replacement Scheme']=='elitism') & (umda_df[\"Selected Individuals\"]==20)][columns]\n",
    "\n",
    "    pbil = pbil_df.loc[(pbil_df['Dataset']==dataset) & (pbil_df['Population Length']==100) & (pbil_df['MaxGenerations']==100) &\n",
    "    (pbil_df['MaxGenerations']==100) & (pbil_df['Learning Rate']==0.5)  &(pbil_df['Mutation Probability']==0.5) & (pbil_df['Mutation Shift']==0.1)][columns]\n",
    "\n",
    "\n",
    "    table = pd.concat([genetic, nsga,umda,pbil], axis=0)\n",
    "    for metric in ['HV','Spread','Spacing','NumSolutions']:\n",
    "        print(\"Results for dataset: \",dataset, \"and metric: \", metric)\n",
    "        pvalues_df= sp.posthoc_mannwhitney(table, val_col=metric, group_col='Algorithm', p_adjust='holm')\n",
    "        pd.set_option('expand_frame_repr', False)\n",
    "        print(pvalues_df)\n",
    "    \n",
    "    \n",
    "\n",
    "\n"
   ]
  }
 ],
 "metadata": {
  "interpreter": {
   "hash": "e7d9aaa2d6b50002c8856e1c10e34453b87557e02b8c8a1262d554cfc860dea4"
  },
  "kernelspec": {
   "display_name": "Python 3.9.5 64-bit",
   "language": "python",
   "name": "python3"
  },
  "language_info": {
   "codemirror_mode": {
    "name": "ipython",
    "version": 3
   },
   "file_extension": ".py",
   "mimetype": "text/x-python",
   "name": "python",
   "nbconvert_exporter": "python",
   "pygments_lexer": "ipython3",
   "version": "3.8.7"
  },
  "orig_nbformat": 4
 },
 "nbformat": 4,
 "nbformat_minor": 2
}
